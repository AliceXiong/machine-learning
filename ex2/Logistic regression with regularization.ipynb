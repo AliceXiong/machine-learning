{
 "metadata": {
  "name": "",
  "signature": "sha256:84d6a1d0e14bd002dbe50410e8c24acae8c29b22ead0761197cc865cd71464fa"
 },
 "nbformat": 3,
 "nbformat_minor": 0,
 "worksheets": [
  {
   "cells": [
    {
     "cell_type": "code",
     "collapsed": false,
     "input": [
      "import pandas\n",
      "import numpy as np\n",
      "import scipy.optimize\n",
      "import matplotlib.pyplot as plt\n",
      "from math import *\n",
      "%matplotlib inline"
     ],
     "language": "python",
     "metadata": {},
     "outputs": [],
     "prompt_number": 1
    },
    {
     "cell_type": "heading",
     "level": 1,
     "metadata": {},
     "source": [
      "Part 1: Plotting"
     ]
    },
    {
     "cell_type": "markdown",
     "metadata": {},
     "source": [
      "We start the exercise by first plotting the data to understand the the problem we are working with."
     ]
    },
    {
     "cell_type": "code",
     "collapsed": false,
     "input": [
      "data1 = pandas.read_csv(\"ex2data1.txt\", header=None, names=['test1', 'test2', 'accepted'])\n",
      "data1.head()"
     ],
     "language": "python",
     "metadata": {},
     "outputs": [
      {
       "html": [
        "<div style=\"max-height:1000px;max-width:1500px;overflow:auto;\">\n",
        "<table border=\"1\" class=\"dataframe\">\n",
        "  <thead>\n",
        "    <tr style=\"text-align: right;\">\n",
        "      <th></th>\n",
        "      <th>test1</th>\n",
        "      <th>test2</th>\n",
        "      <th>accepted</th>\n",
        "    </tr>\n",
        "  </thead>\n",
        "  <tbody>\n",
        "    <tr>\n",
        "      <th>0</th>\n",
        "      <td> 34.623660</td>\n",
        "      <td> 78.024693</td>\n",
        "      <td> 0</td>\n",
        "    </tr>\n",
        "    <tr>\n",
        "      <th>1</th>\n",
        "      <td> 30.286711</td>\n",
        "      <td> 43.894998</td>\n",
        "      <td> 0</td>\n",
        "    </tr>\n",
        "    <tr>\n",
        "      <th>2</th>\n",
        "      <td> 35.847409</td>\n",
        "      <td> 72.902198</td>\n",
        "      <td> 0</td>\n",
        "    </tr>\n",
        "    <tr>\n",
        "      <th>3</th>\n",
        "      <td> 60.182599</td>\n",
        "      <td> 86.308552</td>\n",
        "      <td> 1</td>\n",
        "    </tr>\n",
        "    <tr>\n",
        "      <th>4</th>\n",
        "      <td> 79.032736</td>\n",
        "      <td> 75.344376</td>\n",
        "      <td> 1</td>\n",
        "    </tr>\n",
        "  </tbody>\n",
        "</table>\n",
        "</div>"
       ],
       "metadata": {},
       "output_type": "pyout",
       "prompt_number": 2,
       "text": [
        "       test1      test2  accepted\n",
        "0  34.623660  78.024693         0\n",
        "1  30.286711  43.894998         0\n",
        "2  35.847409  72.902198         0\n",
        "3  60.182599  86.308552         1\n",
        "4  79.032736  75.344376         1"
       ]
      }
     ],
     "prompt_number": 2
    },
    {
     "cell_type": "markdown",
     "metadata": {},
     "source": [
      "Plotting data with + indicating (y = 1) examples and o indicating (y = 0) examples."
     ]
    },
    {
     "cell_type": "code",
     "collapsed": false,
     "input": [
      "def plotData(data):\n",
      "    fig, ax = plt.subplots()\n",
      "    results_accepted = data[data.accepted == 1]\n",
      "    results_rejected = data[data.accepted == 0]\n",
      "    ax.scatter(results_accepted.test1, results_accepted.test2, marker='+', c='b', s=40)\n",
      "    ax.scatter(results_rejected.test1, results_rejected.test2, marker='o', c='r', s=30)\n",
      "    return ax\n",
      "\n",
      "ax = plotData(data1)\n",
      "ax.set_ylim([20, 130])\n",
      "ax.legend(['Admitted', 'Not admitted'], loc='best')\n",
      "ax.set_xlabel('Exam 1 score')\n",
      "ax.set_ylabel('Exam 2 score')"
     ],
     "language": "python",
     "metadata": {},
     "outputs": [
      {
       "metadata": {},
       "output_type": "pyout",
       "prompt_number": 3,
       "text": [
        "<matplotlib.text.Text at 0x10856e7d0>"
       ]
      },
      {
       "metadata": {},
       "output_type": "display_data",
       "png": "[encoded data removed]",
       "text": [
        "<matplotlib.figure.Figure at 0x1085389d0>"
       ]
      }
     ],
     "prompt_number": 3
    },
    {
     "cell_type": "code",
     "collapsed": false,
     "input": [
      "X = data1[['test1', 'test2']].values\n",
      "y = data1.accepted.values\n",
      "m, n = X.shape\n",
      "X = np.insert(X, 0, np.ones(len(X)), 1)\n",
      "m, n"
     ],
     "language": "python",
     "metadata": {},
     "outputs": [
      {
       "metadata": {},
       "output_type": "pyout",
       "prompt_number": 4,
       "text": [
        "(100, 2)"
       ]
      }
     ],
     "prompt_number": 4
    },
    {
     "cell_type": "heading",
     "level": 1,
     "metadata": {},
     "source": [
      "Part 2: Compute Cost and Gradient"
     ]
    },
    {
     "cell_type": "markdown",
     "metadata": {},
     "source": [
      "In this part of the exercise, you will implement the cost and gradient for logistic regression. You need to complete the code in the function cost."
     ]
    },
    {
     "cell_type": "code",
     "collapsed": false,
     "input": [
      "# sigmoid(np.array(z))\n",
      "# z = [[2,3],[2,3]] list, z[1][1]=3\n",
      "# np.array(z)  array, then you can use shape function, np.array(z)[1][1]=3\n",
      "# pandas Dataframe, you need to use .iloc[1][1] to get element\n",
      "\n",
      "# we only calculate it based on column\n",
      "\n",
      "def sigmoid(z):\n",
      "    g = np.zeros(z.shape)\n",
      "\n",
      "    # ====================== YOUR CODE HERE ======================\n",
      "    # Instructions: Compute the sigmoid of each value of z (z can be a matrix,\n",
      "    #               vector or scalar).\n",
      "\n",
      "    for i in range(z.shape[0]):\n",
      "        g[i] = 1/(1+exp(-z[i]))\n",
      "    # =============================================================  \n",
      "    return g\n",
      "\n"
     ],
     "language": "python",
     "metadata": {},
     "outputs": [],
     "prompt_number": 5
    },
    {
     "cell_type": "code",
     "collapsed": false,
     "input": [
      "def cost(X, y, theta, lambda_=0):\n",
      "    # Initialize some useful values\n",
      "    m = len(y)\n",
      "    \n",
      "    # You need to return the following variables correctly\n",
      "    J = 0\n",
      "    z = np.dot(X,theta)\n",
      "    #cost = - y*log(sigmoid(z)) - (1-y)*log(1-sigmoid(z))\n",
      "    cost1 = - np.dot(y.T, np.log(sigmoid(z)))\n",
      "    cost2 = - np.dot((np.ones(m)-y).T, np.log(1-sigmoid(z)))\n",
      "    penalty = lambda_/2 * np.dot(theta,theta)\n",
      "    \n",
      "    cost = cost1 + cost2 + penalty\n",
      "    J = cost / m\n",
      "                   \n",
      "    return J"
     ],
     "language": "python",
     "metadata": {},
     "outputs": [],
     "prompt_number": 6
    },
    {
     "cell_type": "code",
     "collapsed": false,
     "input": [
      "initial_theta = np.zeros(n + 1)\n",
      "np.array(initial_theta).shape"
     ],
     "language": "python",
     "metadata": {},
     "outputs": [
      {
       "metadata": {},
       "output_type": "pyout",
       "prompt_number": 7,
       "text": [
        "(3,)"
       ]
      }
     ],
     "prompt_number": 7
    },
    {
     "cell_type": "code",
     "collapsed": false,
     "input": [
      "cost(X, y, np.array(initial_theta))"
     ],
     "language": "python",
     "metadata": {},
     "outputs": [
      {
       "metadata": {},
       "output_type": "pyout",
       "prompt_number": 8,
       "text": [
        "0.69314718055994529"
       ]
      }
     ],
     "prompt_number": 8
    },
    {
     "cell_type": "code",
     "collapsed": false,
     "input": [
      "def gradient(X, y, theta, lambda_=0):\n",
      "    # Initialize some useful values\n",
      "    m = len(y)\n",
      "    \n",
      "    # You need to return the following variables correctly\n",
      "    grad = np.zeros(theta.shape)\n",
      "    z = np.dot(X,theta)\n",
      "        \n",
      "    #grad = (1 / m) .* (X' * (h - y))\n",
      "    \n",
      "    #X.shape = [100, 3]\n",
      "    #X.T.shape = [3,100]\n",
      "    #diff.shape = [100, 1]\n",
      "    diff = sigmoid(z) - y\n",
      "    grad = np.dot(X.T,diff) + lambda_*theta\n",
      "    grad = grad/m\n",
      "\n",
      "    return grad"
     ],
     "language": "python",
     "metadata": {},
     "outputs": [],
     "prompt_number": 9
    },
    {
     "cell_type": "code",
     "collapsed": false,
     "input": [
      "gradient(X, y, np.array([0,0,0]))"
     ],
     "language": "python",
     "metadata": {},
     "outputs": [
      {
       "metadata": {},
       "output_type": "pyout",
       "prompt_number": 10,
       "text": [
        "array([ -0.1       , -12.00921659, -11.26284221])"
       ]
      }
     ],
     "prompt_number": 10
    },
    {
     "cell_type": "heading",
     "level": 1,
     "metadata": {},
     "source": [
      "\n",
      "\n",
      "Part 3: Optimizing using fminunc"
     ]
    },
    {
     "cell_type": "markdown",
     "metadata": {},
     "source": [
      "In this exercise, you will use a built-in function (scipy.optimize.fmin_ncg) to find the optimal parameters theta."
     ]
    },
    {
     "cell_type": "code",
     "collapsed": false,
     "input": [
      "def mycost(t):\n",
      "    return cost(X, y, t)\n",
      "\n",
      "def mygrad(t):\n",
      "    return gradient(X, y, t)\n",
      "\n",
      "optimal_theta = scipy.optimize.fmin_ncg(mycost,\n",
      "                                        initial_theta,\n",
      "                                        fprime=mygrad)"
     ],
     "language": "python",
     "metadata": {},
     "outputs": [
      {
       "output_type": "stream",
       "stream": "stdout",
       "text": [
        "Optimization terminated successfully.\n",
        "         Current function value: 0.203498\n",
        "         Iterations: 28\n",
        "         Function evaluations: 72\n",
        "         Gradient evaluations: 239\n",
        "         Hessian evaluations: 0\n"
       ]
      }
     ],
     "prompt_number": 11
    },
    {
     "cell_type": "code",
     "collapsed": false,
     "input": [
      "optimal_theta"
     ],
     "language": "python",
     "metadata": {},
     "outputs": [
      {
       "metadata": {},
       "output_type": "pyout",
       "prompt_number": 12,
       "text": [
        "array([-25.15235403,   0.20616295,   0.20139579])"
       ]
      }
     ],
     "prompt_number": 12
    },
    {
     "cell_type": "markdown",
     "metadata": {},
     "source": [
      "Define your own optimizing function"
     ]
    },
    {
     "cell_type": "code",
     "collapsed": false,
     "input": [
      "# defined by myself, not correctly \n",
      "# checking the original source codes now\n",
      "def optimize(X,y,theta):\n",
      "    e = 1\n",
      "    while(e > 1.4901161193847656e-08):\n",
      "        ori = cost (X,y,theta)\n",
      "        theta = theta - gradient(X,y,theta)\n",
      "        e = cost(X,y,theta) - ori\n",
      "        return theta"
     ],
     "language": "python",
     "metadata": {},
     "outputs": [],
     "prompt_number": 13
    },
    {
     "cell_type": "code",
     "collapsed": false,
     "input": [
      "optimize(X,y,initial_theta)"
     ],
     "language": "python",
     "metadata": {},
     "outputs": [
      {
       "metadata": {},
       "output_type": "pyout",
       "prompt_number": 14,
       "text": [
        "array([  0.1       ,  12.00921659,  11.26284221])"
       ]
      }
     ],
     "prompt_number": 14
    },
    {
     "cell_type": "code",
     "collapsed": false,
     "input": [
      "ax = plotData(data1)\n",
      "x_plot = np.array([np.max(X[:, 1]), np.min(X[:,1])])\n",
      "y_plot = (-optimal_theta[0] - optimal_theta[1]*x_plot) / (optimal_theta[2])\n",
      "ax.plot(x_plot, y_plot)"
     ],
     "language": "python",
     "metadata": {},
     "outputs": [
      {
       "metadata": {},
       "output_type": "pyout",
       "prompt_number": 15,
       "text": [
        "[<matplotlib.lines.Line2D at 0x108538990>]"
       ]
      },
      {
       "metadata": {},
       "output_type": "display_data",
       "png": "[encoded data removed]",
       "text": [
        "<matplotlib.figure.Figure at 0x1085fd310>"
       ]
      }
     ],
     "prompt_number": 15
    },
    {
     "cell_type": "heading",
     "level": 1,
     "metadata": {},
     "source": [
      "Part 4: Predict and Accuracies"
     ]
    },
    {
     "cell_type": "markdown",
     "metadata": {},
     "source": [
      "After learning the parameters, you'll like to use it to predict the outcomes on unseen data. In this part, you will use the logistic regression model to predict the probability that a student with score 45 on exam 1 and score 85 on exam 2 will be admitted.\n",
      "\n",
      "Furthermore, you will compute the training and test set accuracies of our model.\n",
      "\n",
      "Your task is to complete the code in predict."
     ]
    },
    {
     "cell_type": "code",
     "collapsed": false,
     "input": [
      "def predict(theta, X):\n",
      "    #PREDICT Predict whether the label is 0 or 1 using learned logistic \n",
      "    #regression parameters theta\n",
      "    #   p = PREDICT(theta, X) computes the predictions for X using a \n",
      "    #   threshold at 0.5 (i.e., if sigmoid(theta'*x) >= 0.5, predict 1)\n",
      "    \n",
      "    m = X.shape[0] # Number of training examples\n",
      "    \n",
      "    # You need to return the following variables correctly\n",
      "    p = np.zeros(m)\n",
      "    wTx = np.dot(X,theta)\n",
      "    p = sigmoid(wTx)\n",
      "    \n",
      "    for i in range(m):\n",
      "        if p[i] >= 0.5:\n",
      "            p[i] = 1\n",
      "        else: \n",
      "            p[i] = 0\n",
      "    \n",
      "    return p"
     ],
     "language": "python",
     "metadata": {},
     "outputs": [],
     "prompt_number": 16
    },
    {
     "cell_type": "markdown",
     "metadata": {},
     "source": [
      "Let's predict the admission probably of a student with scores 45 and 85:"
     ]
    },
    {
     "cell_type": "code",
     "collapsed": false,
     "input": [
      "x = [[1,100,85]]\n",
      "np.array(x).shape"
     ],
     "language": "python",
     "metadata": {},
     "outputs": [
      {
       "metadata": {},
       "output_type": "pyout",
       "prompt_number": 17,
       "text": [
        "(1, 3)"
       ]
      }
     ],
     "prompt_number": 17
    },
    {
     "cell_type": "code",
     "collapsed": false,
     "input": [
      "predict(optimal_theta, np.array(x))"
     ],
     "language": "python",
     "metadata": {},
     "outputs": [
      {
       "metadata": {},
       "output_type": "pyout",
       "prompt_number": 18,
       "text": [
        "array([ 1.])"
       ]
      }
     ],
     "prompt_number": 18
    },
    {
     "cell_type": "markdown",
     "metadata": {},
     "source": [
      "Training set accuracy:"
     ]
    },
    {
     "cell_type": "code",
     "collapsed": false,
     "input": [
      "np.mean(predict(optimal_theta, X) == y)"
     ],
     "language": "python",
     "metadata": {},
     "outputs": [
      {
       "metadata": {},
       "output_type": "pyout",
       "prompt_number": 19,
       "text": [
        "0.89000000000000001"
       ]
      }
     ],
     "prompt_number": 19
    },
    {
     "cell_type": "heading",
     "level": 1,
     "metadata": {},
     "source": [
      "\n",
      "\n",
      "\n",
      "Part 2: Regularized logistic regression"
     ]
    },
    {
     "cell_type": "markdown",
     "metadata": {},
     "source": [
      "In this part, you are given a dataset with data points that are not linearly separable. However, you would still like to use logistic regression to classify the data points.\n",
      "\n",
      "To do so, you introduce more features to use -- in particular, you add polynomial features to our data matrix (similar to polynomial regression).\n",
      "\n",
      "You're expected to modify the cost and gradient functions you've already written so that they take the regularization constant into account and perform regularization."
     ]
    },
    {
     "cell_type": "code",
     "collapsed": false,
     "input": [
      "data2 = pandas.read_csv(\"./ex2data2.txt\", header=None, names=['test1', 'test2', 'accepted'])\n",
      "data2.head()"
     ],
     "language": "python",
     "metadata": {},
     "outputs": [
      {
       "html": [
        "<div style=\"max-height:1000px;max-width:1500px;overflow:auto;\">\n",
        "<table border=\"1\" class=\"dataframe\">\n",
        "  <thead>\n",
        "    <tr style=\"text-align: right;\">\n",
        "      <th></th>\n",
        "      <th>test1</th>\n",
        "      <th>test2</th>\n",
        "      <th>accepted</th>\n",
        "    </tr>\n",
        "  </thead>\n",
        "  <tbody>\n",
        "    <tr>\n",
        "      <th>0</th>\n",
        "      <td> 0.051267</td>\n",
        "      <td> 0.69956</td>\n",
        "      <td> 1</td>\n",
        "    </tr>\n",
        "    <tr>\n",
        "      <th>1</th>\n",
        "      <td>-0.092742</td>\n",
        "      <td> 0.68494</td>\n",
        "      <td> 1</td>\n",
        "    </tr>\n",
        "    <tr>\n",
        "      <th>2</th>\n",
        "      <td>-0.213710</td>\n",
        "      <td> 0.69225</td>\n",
        "      <td> 1</td>\n",
        "    </tr>\n",
        "    <tr>\n",
        "      <th>3</th>\n",
        "      <td>-0.375000</td>\n",
        "      <td> 0.50219</td>\n",
        "      <td> 1</td>\n",
        "    </tr>\n",
        "    <tr>\n",
        "      <th>4</th>\n",
        "      <td>-0.513250</td>\n",
        "      <td> 0.46564</td>\n",
        "      <td> 1</td>\n",
        "    </tr>\n",
        "  </tbody>\n",
        "</table>\n",
        "</div>"
       ],
       "metadata": {},
       "output_type": "pyout",
       "prompt_number": 20,
       "text": [
        "      test1    test2  accepted\n",
        "0  0.051267  0.69956         1\n",
        "1 -0.092742  0.68494         1\n",
        "2 -0.213710  0.69225         1\n",
        "3 -0.375000  0.50219         1\n",
        "4 -0.513250  0.46564         1"
       ]
      }
     ],
     "prompt_number": 20
    },
    {
     "cell_type": "code",
     "collapsed": false,
     "input": [
      "ax = plotData(data2)\n",
      "ax.legend(['y = 1', 'y = 0'], loc='best')\n",
      "ax.set_xlabel('Microchip test 1')\n",
      "ax.set_ylabel('Microchip test 2')"
     ],
     "language": "python",
     "metadata": {},
     "outputs": [
      {
       "metadata": {},
       "output_type": "pyout",
       "prompt_number": 21,
       "text": [
        "<matplotlib.text.Text at 0x108645bd0>"
       ]
      },
      {
       "metadata": {},
       "output_type": "display_data",
       "png": "[encoded data removed]",
       "text": [
        "<matplotlib.figure.Figure at 0x108664990>"
       ]
      }
     ],
     "prompt_number": 21
    },
    {
     "cell_type": "code",
     "collapsed": false,
     "input": [
      "def mapFeature(x1, x2):\n",
      "    ret = np.array([x1**(i-j) * x2**j \n",
      "                    for i in range(1,7) for j in range(i+1)\n",
      "                   ])\n",
      "    return np.insert(ret, 0, np.ones(len(x1)), 0).T\n",
      "\n",
      "mapFeature(np.array([2,3]),np.array([3,2]))[:, :10]"
     ],
     "language": "python",
     "metadata": {},
     "outputs": [
      {
       "metadata": {},
       "output_type": "pyout",
       "prompt_number": 23,
       "text": [
        "array([[ 1,  2,  3,  4,  6,  9,  8, 12, 18, 27],\n",
        "       [ 1,  3,  2,  9,  6,  4, 27, 18, 12,  8]])"
       ]
      }
     ],
     "prompt_number": 23
    },
    {
     "cell_type": "markdown",
     "metadata": {},
     "source": [
      "Note that mapFeature also adds a column of ones for us, so the intercept term is handled."
     ]
    },
    {
     "cell_type": "code",
     "collapsed": false,
     "input": [
      "X = mapFeature(data2.test1, data2.test2)\n",
      "y = data2.accepted.values\n",
      "initial_theta = np.zeros(X.shape[1])\n",
      "X.shape, y.shape, initial_theta.shape"
     ],
     "language": "python",
     "metadata": {},
     "outputs": [
      {
       "metadata": {},
       "output_type": "pyout",
       "prompt_number": 24,
       "text": [
        "((118, 28), (118,), (28,))"
       ]
      }
     ],
     "prompt_number": 24
    },
    {
     "cell_type": "markdown",
     "metadata": {},
     "source": [
      "The cost at the initial theta is:"
     ]
    },
    {
     "cell_type": "code",
     "collapsed": false,
     "input": [
      "cost(X, y, initial_theta, lambda_=0) "
     ],
     "language": "python",
     "metadata": {},
     "outputs": [
      {
       "metadata": {},
       "output_type": "pyout",
       "prompt_number": 25,
       "text": [
        "0.69314718055994529"
       ]
      }
     ],
     "prompt_number": 25
    },
    {
     "cell_type": "heading",
     "level": 1,
     "metadata": {},
     "source": [
      "\n",
      "\n",
      "Part 2: Regularization and Accuracies"
     ]
    },
    {
     "cell_type": "markdown",
     "metadata": {},
     "source": [
      "Optional Exercise: In this part, you will get to try different values of lambda and see how regularization affects the decision coundart\n",
      "\n",
      "Try the following values of lambda (0, 1, 10, 100).\n",
      "\n",
      "How does the decision boundary change when you vary lambda? How does the training set accuracy vary?"
     ]
    },
    {
     "cell_type": "code",
     "collapsed": false,
     "input": [
      "# you can change lambda here to see how the boundary vary\n",
      "lambda_ = 1"
     ],
     "language": "python",
     "metadata": {},
     "outputs": [],
     "prompt_number": 26
    },
    {
     "cell_type": "code",
     "collapsed": false,
     "input": [
      "# why prefere bfgs,box range\n",
      "optimal_theta = scipy.optimize.fmin_bfgs(lambda t: cost(X, y, t, lambda_),\n",
      "                                        initial_theta,\n",
      "                                        lambda t: gradient(X, y, t, lambda_))"
     ],
     "language": "python",
     "metadata": {},
     "outputs": [
      {
       "output_type": "stream",
       "stream": "stdout",
       "text": [
        "Warning: Desired error not necessarily achieved due to precision loss.\n",
        "         Current function value: 0.466189\n",
        "         Iterations: 18\n",
        "         Function evaluations: 38\n",
        "         Gradient evaluations: 26\n"
       ]
      }
     ],
     "prompt_number": 27
    },
    {
     "cell_type": "code",
     "collapsed": false,
     "input": [
      "np.mean(predict(optimal_theta, X) == y)"
     ],
     "language": "python",
     "metadata": {},
     "outputs": [
      {
       "metadata": {},
       "output_type": "pyout",
       "prompt_number": 27,
       "text": [
        "0.9152542372881356"
       ]
      }
     ],
     "prompt_number": 27
    },
    {
     "cell_type": "code",
     "collapsed": false,
     "input": [
      "optimal_theta"
     ],
     "language": "python",
     "metadata": {},
     "outputs": [
      {
       "metadata": {},
       "output_type": "pyout",
       "prompt_number": 28,
       "text": [
        "array([ 1.16016647,  0.62169847,  1.16443156, -1.90394575, -0.89901743,\n",
        "       -1.16820669,  0.09660409, -0.37019878, -0.36218413, -0.2197445 ,\n",
        "       -1.47032782, -0.11035476, -0.57721488, -0.27987532, -1.19347943,\n",
        "       -0.28295678, -0.22783159, -0.07105686, -0.26836523, -0.29202777,\n",
        "       -0.60063062, -1.09618375, -0.01786786, -0.28470123, -0.01256531,\n",
        "       -0.31570028, -0.1496255 , -1.06786077])"
       ]
      }
     ],
     "prompt_number": 28
    },
    {
     "cell_type": "code",
     "collapsed": false,
     "input": [
      "optimal_theta.shape"
     ],
     "language": "python",
     "metadata": {},
     "outputs": [
      {
       "metadata": {},
       "output_type": "pyout",
       "prompt_number": 29,
       "text": [
        "(28,)"
       ]
      }
     ],
     "prompt_number": 29
    },
    {
     "cell_type": "markdown",
     "metadata": {},
     "source": [
      "The decision boundary:"
     ]
    },
    {
     "cell_type": "code",
     "collapsed": false,
     "input": [
      "contour_x = np.linspace(-1, 1.5)\n",
      "contour_y = np.linspace(-1, 1.5)\n",
      "def calc_z(x, y):\n",
      "    return mapFeature(np.array([x]), np.array([y])).dot(optimal_theta)\n",
      "\n",
      "z = np.zeros((len(contour_x), len(contour_y)))\n",
      "for i, c_x in enumerate(contour_x):\n",
      "    for j, c_y in enumerate(contour_y):\n",
      "        z[i,j] = calc_z(c_x, c_y)[0]\n",
      "        \n",
      "ax = plotData(data2)\n",
      "ax.contour(contour_x, contour_y, z, levels=[0])"
     ],
     "language": "python",
     "metadata": {},
     "outputs": [
      {
       "metadata": {},
       "output_type": "pyout",
       "prompt_number": 30,
       "text": [
        "<matplotlib.contour.QuadContourSet instance at 0x1089ba170>"
       ]
      },
      {
       "metadata": {},
       "output_type": "display_data",
       "png": "[encoded data removed]",
       "text": [
        "<matplotlib.figure.Figure at 0x1089bc990>"
       ]
      }
     ],
     "prompt_number": 30
    },
    {
     "cell_type": "code",
     "collapsed": false,
     "input": [],
     "language": "python",
     "metadata": {},
     "outputs": [],
     "prompt_number": 173
    },
    {
     "cell_type": "heading",
     "level": 1,
     "metadata": {},
     "source": [
      "if lambda_ = 0, you can see the over fitting issues below"
     ]
    },
    {
     "cell_type": "code",
     "collapsed": false,
     "input": [
      "lambda_ = 0"
     ],
     "language": "python",
     "metadata": {},
     "outputs": [],
     "prompt_number": 31
    },
    {
     "cell_type": "code",
     "collapsed": false,
     "input": [
      "optimal_theta = scipy.optimize.fmin_bfgs(lambda t: cost(X, y, t, lambda_),\n",
      "                                        initial_theta,\n",
      "                                        lambda t: gradient(X, y, t, lambda_))"
     ],
     "language": "python",
     "metadata": {},
     "outputs": [
      {
       "output_type": "stream",
       "stream": "stdout",
       "text": [
        "Optimization terminated successfully.\n",
        "         Current function value: 0.224569\n",
        "         Iterations: 546\n",
        "         Function evaluations: 547\n",
        "         Gradient evaluations: 547\n"
       ]
      }
     ],
     "prompt_number": 32
    },
    {
     "cell_type": "code",
     "collapsed": false,
     "input": [
      "np.mean(predict(optimal_theta, X) == y)"
     ],
     "language": "python",
     "metadata": {},
     "outputs": [
      {
       "metadata": {},
       "output_type": "pyout",
       "prompt_number": 33,
       "text": [
        "0.9152542372881356"
       ]
      }
     ],
     "prompt_number": 33
    },
    {
     "cell_type": "code",
     "collapsed": false,
     "input": [
      "contour_x = np.linspace(-1, 1.5)\n",
      "contour_y = np.linspace(-1, 1.5)\n",
      "def calc_z(x, y):\n",
      "    return mapFeature(np.array([x]), np.array([y])).dot(optimal_theta)\n",
      "\n",
      "z = np.zeros((len(contour_x), len(contour_y)))\n",
      "for i, c_x in enumerate(contour_x):\n",
      "    for j, c_y in enumerate(contour_y):\n",
      "        z[i,j] = calc_z(c_x, c_y)[0]\n",
      "        \n",
      "ax = plotData(data2)\n",
      "ax.contour(contour_x, contour_y, z, levels=[0])"
     ],
     "language": "python",
     "metadata": {},
     "outputs": [
      {
       "metadata": {},
       "output_type": "pyout",
       "prompt_number": 34,
       "text": [
        "<matplotlib.contour.QuadContourSet instance at 0x108b24e18>"
       ]
      },
      {
       "metadata": {},
       "output_type": "display_data",
       "png": "[encoded data removed]",
       "text": [
        "<matplotlib.figure.Figure at 0x108b27ed0>"
       ]
      }
     ],
     "prompt_number": 34
    },
    {
     "cell_type": "code",
     "collapsed": false,
     "input": [],
     "language": "python",
     "metadata": {},
     "outputs": [],
     "prompt_number": 211
    },
    {
     "cell_type": "code",
     "collapsed": false,
     "input": [],
     "language": "python",
     "metadata": {},
     "outputs": [],
     "prompt_number": 315
    },
    {
     "cell_type": "code",
     "collapsed": false,
     "input": [],
     "language": "python",
     "metadata": {},
     "outputs": [],
     "prompt_number": 213
    },
    {
     "cell_type": "code",
     "collapsed": false,
     "input": [],
     "language": "python",
     "metadata": {},
     "outputs": []
    }
   ],
   "metadata": {}
  }
 ]
}