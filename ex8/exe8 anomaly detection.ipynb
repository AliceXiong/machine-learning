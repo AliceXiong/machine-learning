{
 "metadata": {
  "name": "",
  "signature": "sha256:56373b5c015558a07aaab41580edb3740f2231d7e50de06c12b137fb4363873a"
 },
 "nbformat": 3,
 "nbformat_minor": 0,
 "worksheets": [
  {
   "cells": [
    {
     "cell_type": "code",
     "collapsed": false,
     "input": [
      "#!pip install scipy --upgrade"
     ],
     "language": "python",
     "metadata": {},
     "outputs": [],
     "prompt_number": 1
    },
    {
     "cell_type": "code",
     "collapsed": false,
     "input": [
      "#from _multivariate import multivariate_normal"
     ],
     "language": "python",
     "metadata": {},
     "outputs": [],
     "prompt_number": 2
    },
    {
     "cell_type": "code",
     "collapsed": false,
     "input": [
      "import numpy as np\n",
      "import matplotlib.pyplot as plt\n",
      "import scipy.io\n",
      "#from scipy.stats import multivariate_normal   (rewrite this function)"
     ],
     "language": "python",
     "metadata": {},
     "outputs": [],
     "prompt_number": 3
    },
    {
     "cell_type": "code",
     "collapsed": false,
     "input": [
      "%matplotlib inline"
     ],
     "language": "python",
     "metadata": {},
     "outputs": [],
     "prompt_number": 4
    },
    {
     "cell_type": "heading",
     "level": 1,
     "metadata": {},
     "source": [
      "Part 1: Load Example Dataset"
     ]
    },
    {
     "cell_type": "markdown",
     "metadata": {},
     "source": [
      "We start this exercise by using a small dataset that is easy to visualize.\n",
      "\n",
      "Our example case consists of 2 network server statistics across several machines: the latency and throughput of each machine. This exercise will help us find possibly faulty (or very fast) machines."
     ]
    },
    {
     "cell_type": "code",
     "collapsed": false,
     "input": [
      "ex7data1 = scipy.io.loadmat('ex8data1.mat')   #dict\n",
      "X = ex7data1['X']                             #without label\n",
      "Xval,yval = ex7data1['Xval'],ex7data1['yval'] #for training with label"
     ],
     "language": "python",
     "metadata": {},
     "outputs": [],
     "prompt_number": 5
    },
    {
     "cell_type": "code",
     "collapsed": false,
     "input": [
      "yval.shape"
     ],
     "language": "python",
     "metadata": {},
     "outputs": [
      {
       "metadata": {},
       "output_type": "pyout",
       "prompt_number": 6,
       "text": [
        "(307, 1)"
       ]
      }
     ],
     "prompt_number": 6
    },
    {
     "cell_type": "code",
     "collapsed": false,
     "input": [
      "np.std(Xval[:,0])"
     ],
     "language": "python",
     "metadata": {},
     "outputs": [
      {
       "metadata": {},
       "output_type": "pyout",
       "prompt_number": 7,
       "text": [
        "1.5867797563199848"
       ]
      }
     ],
     "prompt_number": 7
    },
    {
     "cell_type": "code",
     "collapsed": false,
     "input": [
      "#X[:,0]    #Subset first column\n",
      "#X[0,0] == X[0][0] #True"
     ],
     "language": "python",
     "metadata": {},
     "outputs": [],
     "prompt_number": 8
    },
    {
     "cell_type": "code",
     "collapsed": false,
     "input": [
      "def plot_data(X, ax):\n",
      "    ax.set_xlabel('Latency')\n",
      "    ax.set_ylabel('Throughput')\n",
      "    ax.plot(X[:,0], X[:,1], 'bx')\n",
      "    \n",
      "fig, ax = plt.subplots()\n",
      "plot_data(X, ax)"
     ],
     "language": "python",
     "metadata": {},
     "outputs": [
      {
       "metadata": {},
       "output_type": "display_data",
       "png": "[encoded data removed]",
       "text": [
        "<matplotlib.figure.Figure at 0x10686ff50>"
       ]
      }
     ],
     "prompt_number": 9
    },
    {
     "cell_type": "markdown",
     "metadata": {},
     "source": [
      "For some reasons, I am not able to import multivariate_normal from scipy.stats. \n",
      "So defined the following functions below:"
     ]
    },
    {
     "cell_type": "code",
     "collapsed": false,
     "input": [
      "def multivariate_normal( X, mu, sigma2 ):\n",
      "    k = len(mu)\n",
      "    m, n = X.shape\n",
      "    temp_sigma2 = np.diag(sigma2)\n",
      "    temp_X = X - mu\n",
      "\n",
      "    p  = (2.0 * np.pi) ** (-k / 2.0) * np.linalg.det( temp_sigma2 ) ** -0.5 \\\n",
      "        * np.exp(-0.5 * np.sum((temp_X * np.diag( np.linalg.pinv( temp_sigma2 ) )) * temp_X, axis=1))\n",
      "\n",
      "    return p"
     ],
     "language": "python",
     "metadata": {},
     "outputs": [],
     "prompt_number": 10
    },
    {
     "cell_type": "code",
     "collapsed": false,
     "input": [
      "#X.std(axis=1)"
     ],
     "language": "python",
     "metadata": {},
     "outputs": [],
     "prompt_number": 13
    },
    {
     "cell_type": "code",
     "collapsed": false,
     "input": [
      "#def multivariate_gaussian(X, mu, sigma2):\n",
      "#    if len(sigma2) == 1:\n",
      "#        sigma2 = np.diag(sigma2)\n",
      "#    return multivariate_normal(X,mu, sigma2)"
     ],
     "language": "python",
     "metadata": {},
     "outputs": [],
     "prompt_number": 28
    },
    {
     "cell_type": "heading",
     "level": 1,
     "metadata": {},
     "source": [
      "Part 2: Estimate the dataset statistics"
     ]
    },
    {
     "cell_type": "markdown",
     "metadata": {},
     "source": [
      "For this exercise, we assume a Gaussian distribution for the dataset.\n",
      "\n",
      "We first estimate the parameters of our assumed Gaussian distribution, then compute the probabilities for each of the points and then visualize both the overall distribution and where each of the points falls in terms of that distribution."
     ]
    },
    {
     "cell_type": "code",
     "collapsed": false,
     "input": [
      "def estimate_gaussian(X):\n",
      "    m, n = X.shape\n",
      "    # You should return these values correctly\n",
      "    mu = np.zeros(n)\n",
      "    sigma2 = np.ones(n)    \n",
      "    #for i in range(n):\n",
      "    #    mu[i] = np.mean(X[:,i])   \n",
      "    #for i in range(n):\n",
      "    #    sigma2[i] = np.std(X[:,i]) \n",
      "    mu = X.mean(axis=0)\n",
      "    sigma2 = X.std(axis=0)\n",
      "    return mu, sigma2"
     ],
     "language": "python",
     "metadata": {},
     "outputs": [],
     "prompt_number": 14
    },
    {
     "cell_type": "code",
     "collapsed": false,
     "input": [
      "mu, sigma2 = estimate_gaussian(X)\n",
      "p = multivariate_normal(X, mu, sigma2)"
     ],
     "language": "python",
     "metadata": {},
     "outputs": [],
     "prompt_number": 15
    },
    {
     "cell_type": "code",
     "collapsed": false,
     "input": [
      "sigma2"
     ],
     "language": "python",
     "metadata": {},
     "outputs": [
      {
       "metadata": {},
       "output_type": "pyout",
       "prompt_number": 16,
       "text": [
        "array([ 1.35374717,  1.3075723 ])"
       ]
      }
     ],
     "prompt_number": 16
    },
    {
     "cell_type": "markdown",
     "metadata": {},
     "source": [
      "Visualize the fit."
     ]
    },
    {
     "cell_type": "code",
     "collapsed": false,
     "input": [
      "x1, x2 = np.meshgrid(np.linspace(0, 30), np.linspace(0, 30))\n",
      "Z = multivariate_normal(np.c_[x1.reshape(-1), x2.reshape(-1)], mu, sigma2).reshape(x1.shape)\n",
      "fig, ax = plt.subplots(figsize=(5,5))\n",
      "plot_data(X, ax)\n",
      "ax.contour(x1, x2, Z, levels=np.logspace(-20, 1, 7))"
     ],
     "language": "python",
     "metadata": {},
     "outputs": [
      {
       "metadata": {},
       "output_type": "pyout",
       "prompt_number": 20,
       "text": [
        "<matplotlib.contour.QuadContourSet instance at 0x1068d95a8>"
       ]
      },
      {
       "metadata": {},
       "output_type": "display_data",
       "png": "[encoded data removed]",
       "text": [
        "<matplotlib.figure.Figure at 0x106b2a550>"
       ]
      }
     ],
     "prompt_number": 20
    },
    {
     "cell_type": "heading",
     "level": 1,
     "metadata": {},
     "source": [
      "Part 3: Find Outliers"
     ]
    },
    {
     "cell_type": "markdown",
     "metadata": {},
     "source": [
      "Now you will find a good epsilon threshold using a cross-validation set. probabilities given the estimated Gaussian distribution."
     ]
    },
    {
     "cell_type": "code",
     "collapsed": false,
     "input": [
      "yval.shape"
     ],
     "language": "python",
     "metadata": {},
     "outputs": [
      {
       "metadata": {},
       "output_type": "pyout",
       "prompt_number": 22,
       "text": [
        "(307, 1)"
       ]
      }
     ],
     "prompt_number": 22
    },
    {
     "cell_type": "code",
     "collapsed": false,
     "input": [
      "#true_pos = 0\n",
      "#for i in range (prediction.shape[0]):\n",
      "#    if prediction[i]==1 & yval[i]==1:\n",
      "#        true_pos = true_pos+1\n",
      "\n",
      "#true_pos\n",
      "#sum([True, True, False, False, False, True])\n",
      "#true_pos  = sum((prediction == 1) & (yval.reshape(307,1) == 1))"
     ],
     "language": "python",
     "metadata": {},
     "outputs": [],
     "prompt_number": 113
    },
    {
     "cell_type": "code",
     "collapsed": false,
     "input": [
      "def select_threshold(yval, pval):\n",
      "    #SELECTTHRESHOLD Find the best threshold (epsilon) to use for selecting\n",
      "    #outliers\n",
      "    #   [bestEpsilon bestF1] = SELECTTHRESHOLD(yval, pval) finds the best\n",
      "    #   threshold to use for selecting outliers based on the results from a\n",
      "    #   validation set (pval) and the ground truth (yval).\n",
      "    #\n",
      "    best_epsilon = 0\n",
      "    best_f1 = 0\n",
      "    f1 = 0 #the larger the better\n",
      "    \n",
      "    for epsilon in np.linspace(min(pval), max(pval), 1000):\n",
      "        \n",
      "        prediction = (pval < epsilon).reshape( yval.shape[0], 1 )\n",
      "\n",
      "        true_pos  = sum((prediction == 1) & (yval == 1))\n",
      "        false_pos = sum((prediction == 1) & (yval == 0))\n",
      "        false_neg = sum((prediction == 0) & (yval == 1))\n",
      "        precision = true_pos * 1.0 / (true_pos + false_pos)\n",
      "        recall  = true_pos * 1.0 / (true_pos + false_neg)\n",
      "\n",
      "        f1 = (2 * precision * recall) / (precision + recall)\n",
      "        \n",
      "        # =============================================================\n",
      "        \n",
      "        if f1 > best_f1:\n",
      "            best_epsilon = epsilon\n",
      "            best_f1 = f1\n",
      "    \n",
      "    return best_epsilon, best_f1"
     ],
     "language": "python",
     "metadata": {},
     "outputs": [],
     "prompt_number": 23
    },
    {
     "cell_type": "code",
     "collapsed": false,
     "input": [
      "a = np.arange(6).reshape(3,2)"
     ],
     "language": "python",
     "metadata": {},
     "outputs": [],
     "prompt_number": 24
    },
    {
     "cell_type": "code",
     "collapsed": false,
     "input": [
      "a"
     ],
     "language": "python",
     "metadata": {},
     "outputs": [
      {
       "metadata": {},
       "output_type": "pyout",
       "prompt_number": 25,
       "text": [
        "array([[0, 1],\n",
        "       [2, 3],\n",
        "       [4, 5]])"
       ]
      }
     ],
     "prompt_number": 25
    },
    {
     "cell_type": "markdown",
     "metadata": {},
     "source": [
      "Best epsilon and F1 found using cross-validation (F1 should be about 0.899e-5):"
     ]
    },
    {
     "cell_type": "code",
     "collapsed": false,
     "input": [
      "#(0.0001197380298913486, array([ 0.875]))\n",
      "pval = multivariate_normal(Xval, mu, sigma2).reshape(Xval.shape[0],1)\n",
      "epsilon, F1 = select_threshold(yval, pval)\n",
      "print(epsilon, F1)"
     ],
     "language": "python",
     "metadata": {},
     "outputs": [
      {
       "output_type": "stream",
       "stream": "stdout",
       "text": [
        "(0.0001197380298913486, array([ 0.875]))\n"
       ]
      }
     ],
     "prompt_number": 30
    },
    {
     "cell_type": "code",
     "collapsed": false,
     "input": [
      "pval.shape"
     ],
     "language": "python",
     "metadata": {},
     "outputs": [
      {
       "metadata": {},
       "output_type": "pyout",
       "prompt_number": 31,
       "text": [
        "(307, 1)"
       ]
      }
     ],
     "prompt_number": 31
    },
    {
     "cell_type": "code",
     "collapsed": false,
     "input": [
      "outliers = p < epsilon\n",
      "fig, ax = plt.subplots(figsize=(5,5))\n",
      "plot_data(X, ax)\n",
      "ax.scatter(X[outliers, 0], X[outliers, 1], marker='o', facecolors='none', edgecolors='r', s=100)"
     ],
     "language": "python",
     "metadata": {},
     "outputs": [
      {
       "metadata": {},
       "output_type": "pyout",
       "prompt_number": 32,
       "text": [
        "<matplotlib.collections.PathCollection at 0x106db04d0>"
       ]
      },
      {
       "metadata": {},
       "output_type": "display_data",
       "png": "[encoded data removed]",
       "text": [
        "<matplotlib.figure.Figure at 0x106b6cd50>"
       ]
      }
     ],
     "prompt_number": 32
    },
    {
     "cell_type": "heading",
     "level": 1,
     "metadata": {},
     "source": [
      "Part 4: Multidimensional Outliers"
     ]
    },
    {
     "cell_type": "markdown",
     "metadata": {},
     "source": [
      "We will now use the code from the previous part and apply it to a harder problem in which more features describe each datapoint and only some features indicate whether a point is an outlier."
     ]
    },
    {
     "cell_type": "code",
     "collapsed": false,
     "input": [
      "ex7data2 = scipy.io.loadmat('ex8data2.mat')\n",
      "X = ex7data2['X']\n",
      "Xval,yval = ex7data2['Xval'],ex7data2['yval']"
     ],
     "language": "python",
     "metadata": {},
     "outputs": [],
     "prompt_number": 33
    },
    {
     "cell_type": "code",
     "collapsed": false,
     "input": [
      "Xval.shape"
     ],
     "language": "python",
     "metadata": {},
     "outputs": [
      {
       "metadata": {},
       "output_type": "pyout",
       "prompt_number": 34,
       "text": [
        "(100, 11)"
       ]
      }
     ],
     "prompt_number": 34
    },
    {
     "cell_type": "code",
     "collapsed": false,
     "input": [
      "mu, sigma2 = estimate_gaussian(X)\n",
      "p = multivariate_normal(X, mu, sigma2)\n",
      "pval = multivariate_normal(Xval, mu, sigma2)\n",
      "epsilon, F1 = select_threshold(yval, pval)"
     ],
     "language": "python",
     "metadata": {},
     "outputs": [],
     "prompt_number": 35
    },
    {
     "cell_type": "markdown",
     "metadata": {},
     "source": [
      "best epsilon found: (should be about 1.38e-18)"
     ]
    },
    {
     "cell_type": "code",
     "collapsed": false,
     "input": [
      "epsilon, F1"
     ],
     "language": "python",
     "metadata": {},
     "outputs": [
      {
       "metadata": {},
       "output_type": "pyout",
       "prompt_number": 36,
       "text": [
        "(1.6879826274239968e-18, array([ 0.19047619]))"
       ]
      }
     ],
     "prompt_number": 36
    },
    {
     "cell_type": "code",
     "collapsed": false,
     "input": [
      "sum(p < epsilon)"
     ],
     "language": "python",
     "metadata": {},
     "outputs": [
      {
       "metadata": {},
       "output_type": "pyout",
       "prompt_number": 37,
       "text": [
        "921"
       ]
      }
     ],
     "prompt_number": 37
    }
   ],
   "metadata": {}
  }
 ]
}